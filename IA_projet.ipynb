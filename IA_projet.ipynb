{
 "cells": [
  {
   "cell_type": "markdown",
   "id": "b2e762f0",
   "metadata": {},
   "source": [
    "# Projet IA : voyageur de commerce\n",
    "Marie Magny\n",
    "Mickael Nabet\n",
    "Maxime Boyer"
   ]
  },
  {
   "cell_type": "code",
   "execution_count": 1,
   "id": "11799d19",
   "metadata": {},
   "outputs": [],
   "source": [
    "import networkx as nx\n",
    "import matplotlib.pyplot as plt\n",
    "from random import randint\n",
    "import sys"
   ]
  },
  {
   "cell_type": "code",
   "execution_count": 2,
   "id": "d02a421b",
   "metadata": {},
   "outputs": [],
   "source": [
    "def generate_graph(nbr_sommets=5, max_poids=10):\n",
    "    graphe = nx.complete_graph(nbr_sommets)\n",
    "    nx.set_edge_attributes(graphe, {e: {'weight': randint(1, max_poids)} for e in graphe.edges})\n",
    "    return graphe"
   ]
  },
  {
   "cell_type": "code",
   "execution_count": 3,
   "id": "9944c531",
   "metadata": {},
   "outputs": [
    {
     "data": {
      "image/png": "[encoded data removed]",
      "text/plain": [
       "<Figure size 432x288 with 1 Axes>"
      ]
     },
     "metadata": {},
     "output_type": "display_data"
    }
   ],
   "source": [
    "#visualisation\n",
    "graphe = generate_graph()\n",
    "nx.draw(graphe, with_labels=True, node_size=1000)\n",
    "plt.show()"
   ]
  },
  {
   "cell_type": "code",
   "execution_count": 4,
   "id": "161a3a0c",
   "metadata": {},
   "outputs": [
    {
     "name": "stdout",
     "output_type": "stream",
     "text": [
      "(0, 1, {'weight': 5})\n",
      "(0, 2, {'weight': 7})\n",
      "(0, 3, {'weight': 6})\n",
      "(0, 4, {'weight': 4})\n",
      "(1, 2, {'weight': 5})\n",
      "(1, 3, {'weight': 7})\n",
      "(1, 4, {'weight': 10})\n",
      "(2, 3, {'weight': 10})\n",
      "(2, 4, {'weight': 3})\n",
      "(3, 4, {'weight': 2})\n"
     ]
    }
   ],
   "source": [
    "for t in graphe.edges(data=True):\n",
    "    print(t)"
   ]
  },
  {
   "cell_type": "code",
   "execution_count": 5,
   "id": "43543d7f",
   "metadata": {},
   "outputs": [
    {
     "data": {
      "application/vnd.jupyter.widget-view+json": {
       "model_id": "1a1d0abc94ae45dfbc7758df493604fc",
       "version_major": 2,
       "version_minor": 0
      },
      "text/plain": [
       "JupyterWidget(events=['{\"attrs\": {\"nodes\": {\"0\": {}, \"1\": {}, \"2\": {}, \"3\": {}, \"4\": {}}}}', '{\"attrs\": {\"edge…"
      ]
     },
     "metadata": {},
     "output_type": "display_data"
    }
   ],
   "source": [
    "from algorithmx.networkx import add_graph\n",
    "from algorithmx import jupyter_canvas\n",
    "\n",
    "canvas = jupyter_canvas()\n",
    "add_graph(canvas, graphe)"
   ]
  },
  {
   "cell_type": "markdown",
   "id": "cee1c37f",
   "metadata": {},
   "source": [
    "https://algrx.github.io/docs/python/examples/networkx-tutorial.html"
   ]
  },
  {
   "cell_type": "markdown",
   "id": "a1dc6376",
   "metadata": {},
   "source": [
    "## A*\n",
    "\n",
    "Dans un etat, il faut indiquer la ville actuelle ainsi que les autres villes où on est déjà passé\n",
    "Il faut indiquer tous ces trucs (définir l'etat, les actions possibles, les résultats d'une action dans un état, quel est la condition de fin) pour avoir une bonne note\n",
    "\n",
    "Spanning tree = heuristique avec sommets restants + sommet actuel + sommet départ\n",
    "\n",
    "=> but est de choisir la bonne ville pour après dans A*"
   ]
  },
  {
   "cell_type": "code",
   "execution_count": 6,
   "id": "20fdde6c",
   "metadata": {},
   "outputs": [],
   "source": [
    "import sys\n",
    "\n",
    "class AStar:\n",
    "    def __init__(self, G):\n",
    "        self.graphe = G\n",
    "    \n",
    "    def actions(self):\n",
    "        return list(self.frontier.keys())\n",
    "        \n",
    "    def result(self, action):\n",
    "        for l in list(graphe.edges(self.node, data=True)):\n",
    "            if (l[1] == action):\n",
    "                self.frontier[action] = self.g_n + l[2]['weight'] + self.result_mst(action)\n",
    "                break\n",
    "\n",
    "    def result_mst(self, action):\n",
    "        mst_graph = nx.Graph()\n",
    "        mst_graph.add_node(action)\n",
    "        unexplored = list(self.frontier.keys())\n",
    "        for j in range(len(self.frontier) - 1):\n",
    "            mini = sys.maxsize\n",
    "            i = -1\n",
    "            for k in list(mst_graph.nodes()):\n",
    "                for l in list(self.graphe.edges(k, data=True)):\n",
    "                    if(l[2][\"weight\"] < mini and l[0] == k and l[1] not in list(mst_graph.nodes()) and l[1] in unexplored):\n",
    "                        mini = l[2][\"weight\"]\n",
    "                        i = l[1]\n",
    "                    elif(l[2][\"weight\"] < mini and l[1] == k and l[0] not in list(mst_graph.nodes()) and l[0] in unexplored):\n",
    "                        mini = l[2][\"weight\"]\n",
    "                        i = l[0]\n",
    "            unexplored.remove(i)\n",
    "            mst_graph.add_weighted_edges_from([(0, i, mini)])\n",
    "        total_weight = 0\n",
    "        for e in list(mst_graph.edges(data=True)):\n",
    "            total_weight += e[2][\"weight\"]\n",
    "        return total_weight\n",
    "    \n",
    "    def initiate_frontier(self):\n",
    "        self.frontier = {list(graphe.edges(self.node))[i][1]: list(graphe.edges(self.node, data=True))[i][2]['weight'] for i in range(graphe.number_of_nodes()-1)}\n",
    "    \n",
    "    def my_pop(self):\n",
    "        mini = sys.maxsize\n",
    "        i = -1\n",
    "        for f in self.frontier.items():\n",
    "            if f[1] < mini:\n",
    "                mini = f[1]\n",
    "                i = f[0]\n",
    "        self.frontier.pop(i)\n",
    "        for j in range(len(graphe.edges(self.node))):\n",
    "            if(list(graphe.edges(self.node, data=True))[j][1] == i):\n",
    "                self.g_n += list(graphe.edges(0, data=True))[j][2]['weight']\n",
    "                break\n",
    "        return i\n",
    "    \n",
    "    def solve(self):\n",
    "        self.node = list(self.graphe.nodes)[0]\n",
    "        self.initiate_frontier()\n",
    "        self.explored = [self.node]\n",
    "        self.g_n = 0\n",
    "        for action in self.actions():\n",
    "            self.result(action)\n",
    "        while(len(self.frontier) > 0):\n",
    "            self.node = self.my_pop()\n",
    "            self.explored.append(self.node)\n",
    "            for action in self.actions():\n",
    "                self.result(action)\n",
    "        self.explored.append(self.explored[0])\n",
    "        self.g_n = nx.path_weight(self.graphe, self.explored, weight=\"weight\")\n",
    "        print(\"Le meilleur chemin avec l'algorithme A* est \" + str(self.explored) + \" ce chemin a une distance totale de \" + str(self.g_n))"
   ]
  },
  {
   "cell_type": "code",
   "execution_count": 7,
   "id": "44a43ac6",
   "metadata": {},
   "outputs": [
    {
     "name": "stdout",
     "output_type": "stream",
     "text": [
      "Le meilleur chemin avec l'algorithme A* est [0, 4, 2, 1, 3, 0] ce chemin a une distance totale de 25\n"
     ]
    }
   ],
   "source": [
    "a_star = AStar(graphe)\n",
    "a_star.solve()"
   ]
  },
  {
   "cell_type": "markdown",
   "id": "c016b7ee",
   "metadata": {},
   "source": [
    "Nous avons trouvé une fonction dans networkx qui génère le minimum spanning tree étant donné un graphe. Elle nous a permis de vérifier que notre propre code pour générer cet arbre donnait le même résultat sur plusieurs instances différentes. Ci-dessous, un exemple de comment l'utiliser sur le graphe de départ."
   ]
  },
  {
   "cell_type": "code",
   "execution_count": 8,
   "id": "158e2ccf",
   "metadata": {},
   "outputs": [
    {
     "data": {
      "application/vnd.jupyter.widget-view+json": {
       "model_id": "5fe98d1547eb4df1a7b6ed71113cb35c",
       "version_major": 2,
       "version_minor": 0
      },
      "text/plain": [
       "JupyterWidget(events=['{\"attrs\": {\"nodes\": {\"0\": {}, \"1\": {}, \"2\": {}, \"3\": {}, \"4\": {}}}}', '{\"attrs\": {\"edge…"
      ]
     },
     "metadata": {},
     "output_type": "display_data"
    }
   ],
   "source": [
    "mst_graph = nx.minimum_spanning_tree(graphe, weight='weight', algorithm='prim')\n",
    "\n",
    "canvas = jupyter_canvas()\n",
    "add_graph(canvas, mst_graph)"
   ]
  },
  {
   "cell_type": "code",
   "execution_count": 9,
   "id": "8110ed67",
   "metadata": {},
   "outputs": [
    {
     "data": {
      "image/png": "[encoded data removed]",
      "text/plain": [
       "<Figure size 432x288 with 1 Axes>"
      ]
     },
     "metadata": {},
     "output_type": "display_data"
    }
   ],
   "source": [
    "nx.draw(mst_graph, with_labels=True, node_size=1000)\n",
    "plt.show()"
   ]
  },
  {
   "cell_type": "markdown",
   "id": "8f84f357",
   "metadata": {},
   "source": [
    "### A* v2 -> to comment"
   ]
  },
  {
   "cell_type": "code",
   "execution_count": 10,
   "id": "543ef5f0",
   "metadata": {},
   "outputs": [],
   "source": [
    "class Etat:\n",
    "    def __init__(self, pere, etat, distance):\n",
    "        self.pere = pere\n",
    "        self.etat = etat\n",
    "        self.distance = distance #distance parcourue du début jusqu'à cet état -> g(n)\n",
    "        \n",
    "    def is_solved(self, graphe):\n",
    "        path = self.liste_peres()\n",
    "        if(set(path) == set(list(graphe.nodes()))):\n",
    "            return True\n",
    "        return False\n",
    "    \n",
    "    def liste_peres(self):\n",
    "        e = self\n",
    "        path = [e.etat]\n",
    "        while(e.pere != -1):\n",
    "            path.append(e.pere.etat)\n",
    "            e = e.pere\n",
    "        return path\n",
    "\n",
    "class AStar2:\n",
    "    def __init__(self, G):\n",
    "        self.graphe = G.copy()\n",
    "        #chemin + court le même peu importe le sommet de départ car boucle\n",
    "        self.racine = Etat(-1, list(self.graphe.nodes)[0], 0)\n",
    "        #frontier = dict(n, f(n))\n",
    "        self.frontier = {self.racine: self.f(self.racine)}\n",
    "        self.explored = []\n",
    "    \n",
    "    def f(self, n):\n",
    "        return self.g(n) + self.heuristique(n)\n",
    "    \n",
    "    def g(self, n):\n",
    "        e = n\n",
    "        distance = e.distance\n",
    "        while(e.pere != -1):\n",
    "            e = e.pere\n",
    "            distance += e.distance\n",
    "        return distance\n",
    "    \n",
    "    def heuristique(self, n):\n",
    "        G = self.graphe.copy()\n",
    "        path = n.liste_peres()\n",
    "        path.remove(0)\n",
    "        for node in path:\n",
    "            G.remove_node(node)\n",
    "        mst_graph = nx.minimum_spanning_tree(G, weight='weight', algorithm='prim')\n",
    "        distance = 0\n",
    "        for edge in mst_graph.edges(data=True):\n",
    "            distance += edge[2][\"weight\"]\n",
    "        return distance\n",
    "    \n",
    "    def my_pop(self):\n",
    "        mini = sys.maxsize\n",
    "        i = -1\n",
    "        for f in self.frontier.items():\n",
    "            if f[1] < mini:\n",
    "                mini = f[1]\n",
    "                i = f[0]\n",
    "        self.frontier.pop(i)\n",
    "        return i\n",
    "    \n",
    "    def actions(self):\n",
    "        actions = {}\n",
    "        for edge in self.graphe.edges(self.racine.etat, data=True):\n",
    "            if(edge[1] not in self.racine.liste_peres()):\n",
    "                action = Etat(self.racine, edge[1], self.racine.distance + edge[2][\"weight\"])\n",
    "                actions.update({action: self.f(action)})\n",
    "        return actions\n",
    "    \n",
    "    def result(self, action, f_n):\n",
    "        self.frontier.update({action: f_n})\n",
    "    \n",
    "    def solve(self):\n",
    "        while(not self.racine.is_solved(self.graphe) and len(self.frontier) > 0):\n",
    "            self.racine = self.my_pop()\n",
    "            self.explored.append(self.racine)\n",
    "            for action, f_n in self.actions().items():\n",
    "                etat_in_front = []\n",
    "                for etat_f in list(self.frontier.keys()):\n",
    "                    etat_in_front.append(etat_f.etat)\n",
    "                if(action.etat not in self.explored and action.etat not in etat_in_front):\n",
    "                    self.result(action, f_n)\n",
    "                elif(action.etat in etat_in_front): #màj dans frontier si action mieux que celle dans frontier\n",
    "                    for key in self.frontier.keys():\n",
    "                        if(key.etat == action.etat):\n",
    "                            frontier_fn = self.frontier[key]\n",
    "                            key_f = key\n",
    "                            break\n",
    "                    if(frontier_fn > f_n):\n",
    "                        self.frontier.pop(key_f)\n",
    "                        self.result(action, f_n)\n",
    "        if(self.racine.is_solved(graphe)):\n",
    "            e = self.racine\n",
    "            path = self.racine.liste_peres()\n",
    "            path.insert(0, 0)\n",
    "            distance = nx.path_weight(self.graphe, path, weight=\"weight\")\n",
    "            #rajouter retour depart\n",
    "            print(\"Le meilleur chemin avec l'algorithme A* est \" + str(path) + \" ce chemin a une distance totale de \" + str(distance))"
   ]
  },
  {
   "cell_type": "code",
   "execution_count": 11,
   "id": "3a4b96c8",
   "metadata": {},
   "outputs": [
    {
     "name": "stdout",
     "output_type": "stream",
     "text": [
      "Le meilleur chemin avec l'algorithme A* est [0, 1, 3, 2, 4, 0] ce chemin a une distance totale de 29\n"
     ]
    }
   ],
   "source": [
    "a_star2 = AStar2(graphe)\n",
    "a_star2.solve()"
   ]
  },
  {
   "cell_type": "markdown",
   "id": "3ace6f6c",
   "metadata": {},
   "source": [
    "## Recherche locale : genetic algorithm"
   ]
  },
  {
   "cell_type": "code",
   "execution_count": 12,
   "id": "a3097a6b",
   "metadata": {},
   "outputs": [
    {
     "name": "stdout",
     "output_type": "stream",
     "text": [
      "[0, 3, 4, 2, 1]\n",
      "21\n"
     ]
    }
   ],
   "source": [
    "import numpy as np  \n",
    "\n",
    "#definir le score de chaque chemin\n",
    "def fitness(chemin):\n",
    "    score = 0\n",
    "    for i in range(len(chemin)-1):\n",
    "        score += graphe[chemin[i]][chemin[i+1]]['weight']\n",
    "    score += graphe[chemin[len(chemin)-1]][chemin[0]]['weight']\n",
    "    return score \n",
    "\n",
    "#choix des reproducteurs : on prend ceux qui ont le meilleur score\n",
    "#on prend 1/3 de la population pour la reproduction\n",
    "def selection(pop):\n",
    "    selec_pop = []\n",
    "    scores = []\n",
    "    for i in range(len(pop)):\n",
    "        data = []\n",
    "        data.append(i)\n",
    "        data.append(fitness(pop[i]))\n",
    "        scores.append(data)\n",
    "    scores_tries = sorted(scores, key=lambda item:(item [1]))\n",
    "    for i in range(round(len(pop)/3)):\n",
    "        selec_pop.append(pop[scores_tries[i][0]])\n",
    "    return selec_pop\n",
    "\n",
    "#on prend au hasard un individu dans les sélectionnés pour être reproducteurs\n",
    "def random_selec(pop):\n",
    "    i = randint(0, len(pop)-1)\n",
    "    return pop[i]\n",
    "\n",
    "#on prend les caracteristiques du pere jusqu'au point de croisement ici (sommet/3)\n",
    "def reproduce(pere, mere, graphe):\n",
    "    point_crois = round(len(graphe.nodes)/3)\n",
    "    child = []\n",
    "    sommets = np.arange(len(graphe.nodes)) \n",
    "    for i in range(point_crois):\n",
    "        child.append(pere[i])\n",
    "        sommets = np.setdiff1d(sommets, pere[i])\n",
    "    for i in range(point_crois, len(mere)):\n",
    "        if(mere[i] in sommets):\n",
    "            child.append(mere[i])\n",
    "            sommets = np.setdiff1d(sommets, mere[i])\n",
    "        else :\n",
    "            s = sommets[randint(0, len(sommets)-1)]\n",
    "            child.append(s)\n",
    "            sommets = np.setdiff1d(sommets, s)\n",
    "    return child\n",
    "\n",
    "#on applique la mutation on inversant 2 sommets\n",
    "def mutate(individu):\n",
    "    i = randint(0, len(individu)-1)\n",
    "    temp = individu[i]\n",
    "    if(i+1==len(individu)):\n",
    "        individu[i] = individu[0]\n",
    "        individu[0] = temp\n",
    "    else: \n",
    "        individu[i] = individu[i+1]\n",
    "        individu[i+1] = temp\n",
    "    return individu \n",
    "\n",
    "#size of the population : nbr sommet * nbr arretes\n",
    "size_pop = len(graphe.nodes)*len(graphe.edges)\n",
    "population = []\n",
    "\n",
    "#generation de la population initiale  \n",
    "for i in range(size_pop):\n",
    "    sommets = np.arange(len(graphe.nodes)) \n",
    "    np.random.shuffle(sommets)\n",
    "    chemin = sommets.tolist()\n",
    "    population.append(chemin)\n",
    "\n",
    "#evolution de la population\n",
    "iterations = 0\n",
    "while(iterations < 10):\n",
    "    new_population = []\n",
    "    selec_pop = selection(population)\n",
    "    for i in range(size_pop):\n",
    "        pere = random_selec(selec_pop)\n",
    "        mere = random_selec(selec_pop)\n",
    "        child = reproduce(pere, mere, graphe)\n",
    "        proba_mutation = randint(1, 100)\n",
    "        if(proba_mutation<10):\n",
    "            child = mutate(child)\n",
    "        new_population.append(child)\n",
    "    population = new_population\n",
    "    iterations += 1\n",
    "\n",
    "#on prend le meilleur individu\n",
    "meilleure_pop = selection(population)\n",
    "#on sélectionne celui qui est en haut du classement \n",
    "print(meilleure_pop[0])\n",
    "print(fitness(meilleure_pop[0]))"
   ]
  },
  {
   "cell_type": "code",
   "execution_count": null,
   "id": "e0e717b2",
   "metadata": {},
   "outputs": [],
   "source": []
  }
 ],
 "metadata": {
  "kernelspec": {
   "display_name": "Python 3 (ipykernel)",
   "language": "python",
   "name": "python3"
  },
  "language_info": {
   "codemirror_mode": {
    "name": "ipython",
    "version": 3
   },
   "file_extension": ".py",
   "mimetype": "text/x-python",
   "name": "python",
   "nbconvert_exporter": "python",
   "pygments_lexer": "ipython3",
   "version": "3.8.6"
  }
 },
 "nbformat": 4,
 "nbformat_minor": 5
}
